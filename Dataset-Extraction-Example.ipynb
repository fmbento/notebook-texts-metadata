{
 "cells": [
  {
   "cell_type": "markdown",
   "metadata": {},
   "source": [
    "# Dataset Extraction Example\n",
    "\n",
    "This notebook is an example to extract a dataset from a digital collection described using marcxml files.\n",
    "This notebook uses thee descriptive metadata from the Moving Image Archive catalogue, which is Scotland’s national collection of moving images."
   ]
  },
  {
   "cell_type": "markdown",
   "metadata": {},
   "source": [
    "### Setting up things"
   ]
  },
  {
   "cell_type": "code",
   "execution_count": 75,
   "metadata": {},
   "outputs": [],
   "source": [
    "# import the libraries we need\n",
    "# https://pypi.org/project/pymarc/\n",
    "import pymarc, regex, csv\n",
    "from pymarc import parse_xml_to_array    "
   ]
  },
  {
   "cell_type": "markdown",
   "metadata": {},
   "source": [
    "### Reading original files"
   ]
  },
  {
   "cell_type": "code",
   "execution_count": 76,
   "metadata": {},
   "outputs": [],
   "source": [
    "csv_out = csv.writer(open('marc_records.csv', 'w'), delimiter = ',', quotechar = '\"', quoting = csv.QUOTE_MINIMAL)\n",
    "csv_out.writerow(['title', 'author', 'place_production', 'date', 'extents', 'credits_note', 'subjects', 'summary', 'publisher'])\n",
    "\n",
    "records = parse_xml_to_array(open('Moving-Image-Archive/Moving-Image-Archive-dataset-MARC.xml'))\n",
    "\n",
    "for record in records:\n",
    "    \n",
    "    title = author = place_production = date = extents = credits_note = subjects = summary = publisher = ''\n",
    "    \n",
    "    # title\n",
    "    if record['245'] is not None:\n",
    "      title = record['245']['a']\n",
    "      if record['245']['b'] is not None:\n",
    "        title = title + \" \" + record['245']['b']\n",
    "    \n",
    "    # determine author\n",
    "    if record['100'] is not None:\n",
    "      author = record['100']['a']\n",
    "    elif record['110'] is not None:\n",
    "      author = record['110']['a']\n",
    "    elif record['700'] is not None:\n",
    "      author = record['700']['a']\n",
    "    elif record['710'] is not None:\n",
    "      author = record['710']['a']\n",
    "    \n",
    "    # place_production\n",
    "    if record['264'] is not None:\n",
    "      place_production = record['264']['a']\n",
    "    \n",
    "    # date\n",
    "    if record['264'] is not None:\n",
    "      date = record['264']['c']\n",
    "    \n",
    "    # Physical Description - extent\n",
    "    if record['300'] is not None:\n",
    "      extent = record['300']['a']\n",
    "    \n",
    "    # Creation/production credits note\n",
    "    if record['508'] is not None:\n",
    "      credits_note = record['508']['a']\n",
    "    \n",
    "    # Summary\n",
    "    if record['520'] is not None:\n",
    "      summary = record['520']['a']\n",
    "    \n",
    "    # subject\n",
    "    if record['653'] is not None:\n",
    "        subjects = '' \n",
    "        for f in record.get_fields('653'):\n",
    "            subjects += f.get_subfields('a')[0] + ' -- '\n",
    "        subjects = re.sub(' -- $', '', subjects)\n",
    "    \n",
    "    # publisher\n",
    "    if record['260'] is not None:\n",
    "      publisher = record['260']['b']\n",
    "    \n",
    "    csv_out.writerow([title,author,place_production,date,extents,credits_note,subjects,summary,publisher])"
   ]
  },
  {
   "cell_type": "markdown",
   "metadata": {},
   "source": [
    "## Reading CSV "
   ]
  },
  {
   "cell_type": "code",
   "execution_count": null,
   "metadata": {},
   "outputs": [],
   "source": []
  },
  {
   "cell_type": "code",
   "execution_count": null,
   "metadata": {},
   "outputs": [],
   "source": []
  }
 ],
 "metadata": {
  "kernelspec": {
   "display_name": "Python 3",
   "language": "python",
   "name": "python3"
  },
  "language_info": {
   "codemirror_mode": {
    "name": "ipython",
    "version": 3
   },
   "file_extension": ".py",
   "mimetype": "text/x-python",
   "name": "python",
   "nbconvert_exporter": "python",
   "pygments_lexer": "ipython3",
   "version": "3.6.9"
  }
 },
 "nbformat": 4,
 "nbformat_minor": 2
}

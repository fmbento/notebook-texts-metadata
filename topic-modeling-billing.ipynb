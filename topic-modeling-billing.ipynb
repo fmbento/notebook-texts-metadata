{
 "cells": [
  {
   "cell_type": "markdown",
   "metadata": {},
   "source": [
    "# Topic Modeling based on Digitised Volumes of theatrical English, Scottish, and Irish playbills between 1600 - 1902 from data.bl.uk\n",
    "\n",
    "Topic Models are a type of statistical language models used for discovering hidden structure in a collection of texts. \n",
    "\n",
    "This example is based on the a dataset that comprises 264 volumes of digitised theatrical playbills published between 1660 – 1902 (mostly 19th century) from England, Scotland, Wales and Ireland. Digitised from the British Library's physical collection of over 500 volumes of playbills. The dataset contains text files (.TXT) in Optical Character Recognition (OCR) format. More information about the dataset at https://data.bl.uk/playbills/"
   ]
  },
  {
   "cell_type": "markdown",
   "metadata": {},
   "source": [
    "## Setting up things"
   ]
  },
  {
   "cell_type": "code",
   "execution_count": 1,
   "metadata": {},
   "outputs": [
    {
     "name": "stderr",
     "output_type": "stream",
     "text": [
      "[nltk_data] Downloading package wordnet to /home/gustavo/nltk_data...\n",
      "[nltk_data]   Package wordnet is already up-to-date!\n",
      "[nltk_data] Downloading package punkt to /home/gustavo/nltk_data...\n",
      "[nltk_data]   Package punkt is already up-to-date!\n"
     ]
    },
    {
     "data": {
      "text/plain": [
       "True"
      ]
     },
     "execution_count": 1,
     "metadata": {},
     "output_type": "execute_result"
    }
   ],
   "source": [
    "import sys\n",
    "import requests\n",
    "import pandas as pd\n",
    "import re\n",
    "import gensim\n",
    "from gensim.utils import simple_preprocess\n",
    "from nltk.corpus import wordnet\n",
    "from nltk.tokenize import word_tokenize\n",
    "from nltk.stem.porter import PorterStemmer\n",
    "import nltk\n",
    "nltk.download('wordnet')\n",
    "nltk.download('punkt')"
   ]
  },
  {
   "cell_type": "markdown",
   "metadata": {},
   "source": [
    "## Reading the CSV file\n",
    "\n",
    "**Note:** the original dataset did not include a CSV file. It was generated from the Excel file."
   ]
  },
  {
   "cell_type": "code",
   "execution_count": 2,
   "metadata": {},
   "outputs": [
    {
     "data": {
      "text/html": [
       "<div>\n",
       "<style scoped>\n",
       "    .dataframe tbody tr th:only-of-type {\n",
       "        vertical-align: middle;\n",
       "    }\n",
       "\n",
       "    .dataframe tbody tr th {\n",
       "        vertical-align: top;\n",
       "    }\n",
       "\n",
       "    .dataframe thead th {\n",
       "        text-align: right;\n",
       "    }\n",
       "</style>\n",
       "<table border=\"1\" class=\"dataframe\">\n",
       "  <thead>\n",
       "    <tr style=\"text-align: right;\">\n",
       "      <th></th>\n",
       "      <th>Ingestion Order</th>\n",
       "      <th>Shelf Mark</th>\n",
       "      <th>Volume</th>\n",
       "      <th>PID</th>\n",
       "      <th>Create Date</th>\n",
       "      <th>File Name (.PDF)</th>\n",
       "      <th>Path</th>\n",
       "      <th>File Size (MB)</th>\n",
       "      <th>LSID</th>\n",
       "    </tr>\n",
       "  </thead>\n",
       "  <tbody>\n",
       "    <tr>\n",
       "      <th>0</th>\n",
       "      <td>2</td>\n",
       "      <td>Playbills 1</td>\n",
       "      <td>Playbills 1</td>\n",
       "      <td>373904</td>\n",
       "      <td>3 de sep de 10</td>\n",
       "      <td>015376973_313_Playbills 1</td>\n",
       "      <td>/2010/09/03/file_1/373904</td>\n",
       "      <td>156,38</td>\n",
       "      <td>3f9b9a08</td>\n",
       "    </tr>\n",
       "    <tr>\n",
       "      <th>1</th>\n",
       "      <td>12</td>\n",
       "      <td>Playbills 10</td>\n",
       "      <td>Playbills 10</td>\n",
       "      <td>379308</td>\n",
       "      <td>7 de sep de 10</td>\n",
       "      <td>014933523_1305_Playbills 10</td>\n",
       "      <td>/2010/09/07/file_4/379308</td>\n",
       "      <td>185,7</td>\n",
       "      <td>3f9c9e0f</td>\n",
       "    </tr>\n",
       "    <tr>\n",
       "      <th>2</th>\n",
       "      <td>101</td>\n",
       "      <td>Playbills 100</td>\n",
       "      <td>Playbills 100</td>\n",
       "      <td>435983</td>\n",
       "      <td>21 de sep de 10</td>\n",
       "      <td>015176783_1333_Playbills 100</td>\n",
       "      <td>/2010/09/21/file_6/435983</td>\n",
       "      <td>294,12</td>\n",
       "      <td>400ce74c</td>\n",
       "    </tr>\n",
       "    <tr>\n",
       "      <th>3</th>\n",
       "      <td>103</td>\n",
       "      <td>Playbills 101</td>\n",
       "      <td>Playbills 101 (1)</td>\n",
       "      <td>436802</td>\n",
       "      <td>21 de sep de 10</td>\n",
       "      <td>015176791_2150_Playbills 101 (1)</td>\n",
       "      <td>/2010/09/21/file_7/436802</td>\n",
       "      <td>70,98</td>\n",
       "      <td>400ce5c3</td>\n",
       "    </tr>\n",
       "    <tr>\n",
       "      <th>4</th>\n",
       "      <td>105</td>\n",
       "      <td>Playbills 101</td>\n",
       "      <td>Playbills 101 (2)</td>\n",
       "      <td>437629</td>\n",
       "      <td>21 de sep de 10</td>\n",
       "      <td>015176791_2975_Playbills 101 (2)</td>\n",
       "      <td>/2010/09/21/file_8/437629</td>\n",
       "      <td>75,05</td>\n",
       "      <td>400c8a20</td>\n",
       "    </tr>\n",
       "  </tbody>\n",
       "</table>\n",
       "</div>"
      ],
      "text/plain": [
       "   Ingestion Order      Shelf Mark             Volume     PID  \\\n",
       "0                2     Playbills 1        Playbills 1  373904   \n",
       "1               12    Playbills 10       Playbills 10  379308   \n",
       "2              101   Playbills 100      Playbills 100  435983   \n",
       "3              103  Playbills 101   Playbills 101 (1)  436802   \n",
       "4              105  Playbills 101   Playbills 101 (2)  437629   \n",
       "\n",
       "       Create Date                  File Name (.PDF)  \\\n",
       "0   3 de sep de 10         015376973_313_Playbills 1   \n",
       "1   7 de sep de 10       014933523_1305_Playbills 10   \n",
       "2  21 de sep de 10      015176783_1333_Playbills 100   \n",
       "3  21 de sep de 10  015176791_2150_Playbills 101 (1)   \n",
       "4  21 de sep de 10  015176791_2975_Playbills 101 (2)   \n",
       "\n",
       "                        Path File Size (MB)      LSID  \n",
       "0  /2010/09/03/file_1/373904         156,38  3f9b9a08  \n",
       "1  /2010/09/07/file_4/379308          185,7  3f9c9e0f  \n",
       "2  /2010/09/21/file_6/435983         294,12  400ce74c  \n",
       "3  /2010/09/21/file_7/436802          70,98  400ce5c3  \n",
       "4  /2010/09/21/file_8/437629          75,05  400c8a20  "
      ]
     },
     "execution_count": 2,
     "metadata": {},
     "output_type": "execute_result"
    }
   ],
   "source": [
    "# Read data into playbills\n",
    "playbills = pd.read_csv('playbills-ocr-text/playbills.csv', encoding='iso-8859-1')\n",
    "\n",
    "# Print head\n",
    "playbills.head()"
   ]
  },
  {
   "cell_type": "markdown",
   "metadata": {},
   "source": [
    "## Data cleaning\n",
    "\n",
    "Since the goal of this analysis is to perform topic modeling, we will focus on the text data from each register, and remove other metadata columns that are not necessary."
   ]
  },
  {
   "cell_type": "code",
   "execution_count": 3,
   "metadata": {},
   "outputs": [
    {
     "data": {
      "text/html": [
       "<div>\n",
       "<style scoped>\n",
       "    .dataframe tbody tr th:only-of-type {\n",
       "        vertical-align: middle;\n",
       "    }\n",
       "\n",
       "    .dataframe tbody tr th {\n",
       "        vertical-align: top;\n",
       "    }\n",
       "\n",
       "    .dataframe thead th {\n",
       "        text-align: right;\n",
       "    }\n",
       "</style>\n",
       "<table border=\"1\" class=\"dataframe\">\n",
       "  <thead>\n",
       "    <tr style=\"text-align: right;\">\n",
       "      <th></th>\n",
       "      <th>Volume</th>\n",
       "      <th>Create Date</th>\n",
       "      <th>LSID</th>\n",
       "    </tr>\n",
       "  </thead>\n",
       "  <tbody>\n",
       "    <tr>\n",
       "      <th>0</th>\n",
       "      <td>Playbills 1</td>\n",
       "      <td>3 de sep de 10</td>\n",
       "      <td>3f9b9a08</td>\n",
       "    </tr>\n",
       "    <tr>\n",
       "      <th>1</th>\n",
       "      <td>Playbills 10</td>\n",
       "      <td>7 de sep de 10</td>\n",
       "      <td>3f9c9e0f</td>\n",
       "    </tr>\n",
       "    <tr>\n",
       "      <th>2</th>\n",
       "      <td>Playbills 100</td>\n",
       "      <td>21 de sep de 10</td>\n",
       "      <td>400ce74c</td>\n",
       "    </tr>\n",
       "    <tr>\n",
       "      <th>3</th>\n",
       "      <td>Playbills 101 (1)</td>\n",
       "      <td>21 de sep de 10</td>\n",
       "      <td>400ce5c3</td>\n",
       "    </tr>\n",
       "    <tr>\n",
       "      <th>4</th>\n",
       "      <td>Playbills 101 (2)</td>\n",
       "      <td>21 de sep de 10</td>\n",
       "      <td>400c8a20</td>\n",
       "    </tr>\n",
       "  </tbody>\n",
       "</table>\n",
       "</div>"
      ],
      "text/plain": [
       "              Volume      Create Date      LSID\n",
       "0        Playbills 1   3 de sep de 10  3f9b9a08\n",
       "1       Playbills 10   7 de sep de 10  3f9c9e0f\n",
       "2      Playbills 100  21 de sep de 10  400ce74c\n",
       "3  Playbills 101 (1)  21 de sep de 10  400ce5c3\n",
       "4  Playbills 101 (2)  21 de sep de 10  400c8a20"
      ]
     },
     "execution_count": 3,
     "metadata": {},
     "output_type": "execute_result"
    }
   ],
   "source": [
    "# Remove the columns\n",
    "playbills = playbills.drop(columns=['Ingestion Order', 'Shelf Mark', 'PID', 'Path', 'File Name (.PDF)', 'File Size (MB)'], axis=1)# Print out the first rows of papers\n",
    "playbills.head()"
   ]
  },
  {
   "cell_type": "markdown",
   "metadata": {},
   "source": [
    "## Reading the files and extracting the text"
   ]
  },
  {
   "cell_type": "code",
   "execution_count": 4,
   "metadata": {},
   "outputs": [
    {
     "name": "stdout",
     "output_type": "stream",
     "text": [
      "An exception occurred <class 'FileNotFoundError'>\n",
      "An exception occurred <class 'FileNotFoundError'>\n",
      "An exception occurred <class 'FileNotFoundError'>\n",
      "An exception occurred <class 'FileNotFoundError'>\n",
      "An exception occurred <class 'FileNotFoundError'>\n"
     ]
    }
   ],
   "source": [
    "for index,row in playbills.iterrows():\n",
    "    \n",
    "    try:\n",
    "        file = \"playbills-ocr-text/lsidyv\"+ row['LSID'] +\".txt\";\n",
    "        f = open(file, \"r\")\n",
    "        text = f.read()\n",
    "        \n",
    "        playbills.loc[index, 'original_text'] = text\n",
    "                \n",
    "    except:\n",
    "        print(\"An exception occurred\", sys.exc_info()[0]) \n",
    "        playbills.loc[index, 'original_text'] = ''"
   ]
  },
  {
   "cell_type": "markdown",
   "metadata": {},
   "source": [
    "## Reviewing the content of the files"
   ]
  },
  {
   "cell_type": "code",
   "execution_count": 5,
   "metadata": {},
   "outputs": [
    {
     "data": {
      "text/html": [
       "<div>\n",
       "<style scoped>\n",
       "    .dataframe tbody tr th:only-of-type {\n",
       "        vertical-align: middle;\n",
       "    }\n",
       "\n",
       "    .dataframe tbody tr th {\n",
       "        vertical-align: top;\n",
       "    }\n",
       "\n",
       "    .dataframe thead th {\n",
       "        text-align: right;\n",
       "    }\n",
       "</style>\n",
       "<table border=\"1\" class=\"dataframe\">\n",
       "  <thead>\n",
       "    <tr style=\"text-align: right;\">\n",
       "      <th></th>\n",
       "      <th>Volume</th>\n",
       "      <th>Create Date</th>\n",
       "      <th>LSID</th>\n",
       "      <th>original_text</th>\n",
       "    </tr>\n",
       "  </thead>\n",
       "  <tbody>\n",
       "    <tr>\n",
       "      <th>0</th>\n",
       "      <td>Playbills 1</td>\n",
       "      <td>3 de sep de 10</td>\n",
       "      <td>3f9b9a08</td>\n",
       "      <td>﻿\\n\\n\\n\\n\\n\\n\\n■1\\n\\nDRURY LAN E,\\nBy hi» M A ...</td>\n",
       "    </tr>\n",
       "    <tr>\n",
       "      <th>1</th>\n",
       "      <td>Playbills 10</td>\n",
       "      <td>7 de sep de 10</td>\n",
       "      <td>3f9c9e0f</td>\n",
       "      <td>﻿- )♦ I &gt;\\nPZ,AYß .\\n¿Ij¿/P¿/ ¿fi. !\\nThe fh y...</td>\n",
       "    </tr>\n",
       "    <tr>\n",
       "      <th>2</th>\n",
       "      <td>Playbills 100</td>\n",
       "      <td>21 de sep de 10</td>\n",
       "      <td>400ce74c</td>\n",
       "      <td>)\\n\\n\f",
       "T H E A T R E ROYAL,\\n\\nCOYEST-GARDEN.\\n...</td>\n",
       "    </tr>\n",
       "    <tr>\n",
       "      <th>3</th>\n",
       "      <td>Playbills 101 (1)</td>\n",
       "      <td>21 de sep de 10</td>\n",
       "      <td>400ce5c3</td>\n",
       "      <td>TilEATRE ROYAL,\\n\\nCovent- €rarde&gt;\\nThe Public...</td>\n",
       "    </tr>\n",
       "    <tr>\n",
       "      <th>4</th>\n",
       "      <td>Playbills 101 (2)</td>\n",
       "      <td>21 de sep de 10</td>\n",
       "      <td>400c8a20</td>\n",
       "      <td>Theatre Royal, CoYent-Gardeii\\nThis ^ireseut S...</td>\n",
       "    </tr>\n",
       "  </tbody>\n",
       "</table>\n",
       "</div>"
      ],
      "text/plain": [
       "              Volume      Create Date      LSID  \\\n",
       "0        Playbills 1   3 de sep de 10  3f9b9a08   \n",
       "1       Playbills 10   7 de sep de 10  3f9c9e0f   \n",
       "2      Playbills 100  21 de sep de 10  400ce74c   \n",
       "3  Playbills 101 (1)  21 de sep de 10  400ce5c3   \n",
       "4  Playbills 101 (2)  21 de sep de 10  400c8a20   \n",
       "\n",
       "                                       original_text  \n",
       "0  ﻿\\n\\n\\n\\n\\n\\n\\n■1\\n\\nDRURY LAN E,\\nBy hi» M A ...  \n",
       "1  ﻿- )♦ I >\\nPZ,AYß .\\n¿Ij¿/P¿/ ¿fi. !\\nThe fh y...  \n",
       "2  )\\n\\n\n",
       "T H E A T R E ROYAL,\\n\\nCOYEST-GARDEN.\\n...  \n",
       "3  TilEATRE ROYAL,\\n\\nCovent- €rarde>\\nThe Public...  \n",
       "4  Theatre Royal, CoYent-Gardeii\\nThis ^ireseut S...  "
      ]
     },
     "execution_count": 5,
     "metadata": {},
     "output_type": "execute_result"
    }
   ],
   "source": [
    "playbills.head()"
   ]
  },
  {
   "cell_type": "markdown",
   "metadata": {},
   "source": [
    "## Remove punctuation/lower casing/stopwords\n",
    "\n",
    "Next, let’s perform a simple preprocessing on the content to make them more amenable for analysis, and reliable results. To do that, we’ll use a regular expression to remove any punctuation, lowercase the text, remove stopwords and then remove non English words since the OCR may have some errors.\n",
    "\n",
    "We use wordnet to verify if the word exists. We also have added some specific stopwords to enhance the performance."
   ]
  },
  {
   "cell_type": "markdown",
   "metadata": {},
   "source": [
    "The initial_clean function performs an initial clean by removing punctuations, uppercase text etc. "
   ]
  },
  {
   "cell_type": "code",
   "execution_count": 6,
   "metadata": {},
   "outputs": [],
   "source": [
    "def initial_clean(text):\n",
    "     \"\"\"\n",
    "     Function to clean text-remove punctuations, lowercase text etc.    \n",
    "     \"\"\"\n",
    "     # remove_digits and special chars   \n",
    "     text = re.sub(\"[^a-zA-Z ]\", \"\", text)\n",
    "    \n",
    "     text = text.lower() # lower case text\n",
    "     text = nltk.word_tokenize(text)\n",
    "     return text"
   ]
  },
  {
   "cell_type": "markdown",
   "metadata": {},
   "source": [
    "The next function stem_words() stems the words to its base forms to reduce variant forms of words."
   ]
  },
  {
   "cell_type": "code",
   "execution_count": 15,
   "metadata": {},
   "outputs": [],
   "source": [
    "stemmer = PorterStemmer()\n",
    "def stem_words(text):\n",
    "     \"\"\"\n",
    "     Function to stem words\n",
    "     \"\"\"\n",
    "     #try:\n",
    "     text = [stemmer.stem(word) for word in text]\n",
    "     text = [word for word in text if len(word) > 2] # no single letter words\n",
    "     #except IndexError:\n",
    "     #    pass\n",
    "     return text  "
   ]
  },
  {
   "cell_type": "markdown",
   "metadata": {},
   "source": [
    "Let's see an example"
   ]
  },
  {
   "cell_type": "code",
   "execution_count": 16,
   "metadata": {},
   "outputs": [
    {
     "name": "stdout",
     "output_type": "stream",
     "text": [
      "['william', 'shakespear', 'perhap', 'the', 'most', 'famou', 'author']\n"
     ]
    }
   ],
   "source": [
    "some_words = \"William Shakespeare was perhaps the most famous author\"\n",
    "some_words_tokens = nltk.word_tokenize(some_words)\n",
    "print(stem_words(some_words_tokens))"
   ]
  },
  {
   "cell_type": "markdown",
   "metadata": {},
   "source": [
    "We will use wordnet to remove non existent words. Due to the text provided in the dataset many words are not existent. We will encrease the performance by removing non existent words."
   ]
  },
  {
   "cell_type": "code",
   "execution_count": 17,
   "metadata": {},
   "outputs": [],
   "source": [
    "def remove_non_english_words(text):\n",
    "    filtered_text = [] \n",
    "    \n",
    "    for token in text:\n",
    "\n",
    "        if len(token) == 1:\n",
    "            continue\n",
    "        elif token in stop_words:\n",
    "            continue\n",
    "        elif not wordnet.synsets(token):\n",
    "            #Not an English Word\n",
    "            continue\n",
    "        else:\n",
    "            #English Word\n",
    "            filtered_text.append(token)\n",
    "    return filtered_text"
   ]
  },
  {
   "cell_type": "markdown",
   "metadata": {},
   "source": [
    "In general, common  words known as *stopwords* are removed from text since they could be considered as noise when used in text algorithms."
   ]
  },
  {
   "cell_type": "code",
   "execution_count": 18,
   "metadata": {},
   "outputs": [
    {
     "name": "stderr",
     "output_type": "stream",
     "text": [
      "[nltk_data] Downloading package stopwords to\n",
      "[nltk_data]     /home/gustavo/nltk_data...\n",
      "[nltk_data]   Package stopwords is already up-to-date!\n"
     ]
    }
   ],
   "source": [
    "from nltk.corpus import stopwords\n",
    "nltk.download('stopwords')\n",
    "stop_words = stopwords.words('english')\n",
    "stop_words.extend(['news', 'say','use', 'not', 'would', 'say', 'could', '_', 'be', 'know', 'good', 'go', 'get', 'do','took','time','year',\n",
    "'done', 'try', 'many', 'some','nice', 'thank', 'think', 'see', 'rather', 'easy', 'easily', 'lot', 'lack', 'make', 'want', 'seem', 'run', 'need', 'even', 'right', 'line','even', 'also', 'may', 'take', 'come', 'new','said', 'like','people'])\n",
    "def remove_stop_words(text):\n",
    "     return [word for word in text if word not in stop_words]"
   ]
  },
  {
   "cell_type": "markdown",
   "metadata": {},
   "source": [
    "We create a function to perform the whole process"
   ]
  },
  {
   "cell_type": "code",
   "execution_count": 19,
   "metadata": {},
   "outputs": [],
   "source": [
    "def apply_all(text):\n",
    "     \"\"\"\n",
    "     This function applies all the functions above into one\n",
    "     \"\"\"\n",
    "     return stem_words(remove_stop_words(remove_non_english_words(initial_clean(text))))"
   ]
  },
  {
   "cell_type": "markdown",
   "metadata": {},
   "source": [
    "Finallly, we process the original text by using the function apply."
   ]
  },
  {
   "cell_type": "code",
   "execution_count": 20,
   "metadata": {},
   "outputs": [
    {
     "name": "stdout",
     "output_type": "stream",
     "text": [
      "Time to clean and tokenize 264 reviews: 9.853082410494487 min\n"
     ]
    }
   ],
   "source": [
    "# clean reviews and create new column \"tokenized\" \n",
    "import time   \n",
    "t1 = time.time()   \n",
    "playbills['tokenized_text'] = playbills['original_text'].apply(apply_all)    \n",
    "t2 = time.time()  \n",
    "print(\"Time to clean and tokenize\", len(playbills), \"reviews:\", (t2-t1)/60, \"min\") #Time to clean and tokenize"
   ]
  },
  {
   "cell_type": "markdown",
   "metadata": {},
   "source": [
    "## Checking the result"
   ]
  },
  {
   "cell_type": "code",
   "execution_count": 21,
   "metadata": {},
   "outputs": [
    {
     "data": {
      "text/html": [
       "<div>\n",
       "<style scoped>\n",
       "    .dataframe tbody tr th:only-of-type {\n",
       "        vertical-align: middle;\n",
       "    }\n",
       "\n",
       "    .dataframe tbody tr th {\n",
       "        vertical-align: top;\n",
       "    }\n",
       "\n",
       "    .dataframe thead th {\n",
       "        text-align: right;\n",
       "    }\n",
       "</style>\n",
       "<table border=\"1\" class=\"dataframe\">\n",
       "  <thead>\n",
       "    <tr style=\"text-align: right;\">\n",
       "      <th></th>\n",
       "      <th>Volume</th>\n",
       "      <th>Create Date</th>\n",
       "      <th>LSID</th>\n",
       "      <th>original_text</th>\n",
       "      <th>tokenized_text</th>\n",
       "    </tr>\n",
       "  </thead>\n",
       "  <tbody>\n",
       "    <tr>\n",
       "      <th>0</th>\n",
       "      <td>Playbills 1</td>\n",
       "      <td>3 de sep de 10</td>\n",
       "      <td>3f9b9a08</td>\n",
       "      <td>﻿\\n\\n\\n\\n\\n\\n\\n■1\\n\\nDRURY LAN E,\\nBy hi» M A ...</td>\n",
       "      <td>[lan, testi, compli, theatr, royal, day, play,...</td>\n",
       "    </tr>\n",
       "    <tr>\n",
       "      <th>1</th>\n",
       "      <td>Playbills 10</td>\n",
       "      <td>7 de sep de 10</td>\n",
       "      <td>3f9c9e0f</td>\n",
       "      <td>﻿- )♦ I &gt;\\nPZ,AYß .\\n¿Ij¿/P¿/ ¿fi. !\\nThe fh y...</td>\n",
       "      <td>[rip, air, aft, fist, royal, public, respect, ...</td>\n",
       "    </tr>\n",
       "    <tr>\n",
       "      <th>2</th>\n",
       "      <td>Playbills 100</td>\n",
       "      <td>21 de sep de 10</td>\n",
       "      <td>400ce74c</td>\n",
       "      <td>)\\n\\n\f",
       "T H E A T R E ROYAL,\\n\\nCOYEST-GARDEN.\\n...</td>\n",
       "      <td>[present, januari, opera, conrad, caspar, blac...</td>\n",
       "    </tr>\n",
       "    <tr>\n",
       "      <th>3</th>\n",
       "      <td>Playbills 101 (1)</td>\n",
       "      <td>21 de sep de 10</td>\n",
       "      <td>400ce5c3</td>\n",
       "      <td>TilEATRE ROYAL,\\n\\nCovent- €rarde&gt;\\nThe Public...</td>\n",
       "      <td>[public, respect, inform, monday, princip, per...</td>\n",
       "    </tr>\n",
       "    <tr>\n",
       "      <th>4</th>\n",
       "      <td>Playbills 101 (2)</td>\n",
       "      <td>21 de sep de 10</td>\n",
       "      <td>400c8a20</td>\n",
       "      <td>Theatre Royal, CoYent-Gardeii\\nThis ^ireseut S...</td>\n",
       "      <td>[theatr, royal, saturday, jan, act, sheridan, ...</td>\n",
       "    </tr>\n",
       "  </tbody>\n",
       "</table>\n",
       "</div>"
      ],
      "text/plain": [
       "              Volume      Create Date      LSID  \\\n",
       "0        Playbills 1   3 de sep de 10  3f9b9a08   \n",
       "1       Playbills 10   7 de sep de 10  3f9c9e0f   \n",
       "2      Playbills 100  21 de sep de 10  400ce74c   \n",
       "3  Playbills 101 (1)  21 de sep de 10  400ce5c3   \n",
       "4  Playbills 101 (2)  21 de sep de 10  400c8a20   \n",
       "\n",
       "                                       original_text  \\\n",
       "0  ﻿\\n\\n\\n\\n\\n\\n\\n■1\\n\\nDRURY LAN E,\\nBy hi» M A ...   \n",
       "1  ﻿- )♦ I >\\nPZ,AYß .\\n¿Ij¿/P¿/ ¿fi. !\\nThe fh y...   \n",
       "2  )\\n\\n\n",
       "T H E A T R E ROYAL,\\n\\nCOYEST-GARDEN.\\n...   \n",
       "3  TilEATRE ROYAL,\\n\\nCovent- €rarde>\\nThe Public...   \n",
       "4  Theatre Royal, CoYent-Gardeii\\nThis ^ireseut S...   \n",
       "\n",
       "                                      tokenized_text  \n",
       "0  [lan, testi, compli, theatr, royal, day, play,...  \n",
       "1  [rip, air, aft, fist, royal, public, respect, ...  \n",
       "2  [present, januari, opera, conrad, caspar, blac...  \n",
       "3  [public, respect, inform, monday, princip, per...  \n",
       "4  [theatr, royal, saturday, jan, act, sheridan, ...  "
      ]
     },
     "execution_count": 21,
     "metadata": {},
     "output_type": "execute_result"
    }
   ],
   "source": [
    "playbills.head()"
   ]
  },
  {
   "cell_type": "markdown",
   "metadata": {},
   "source": [
    "## Create Gensim Dictionary and Corpus\n",
    "\n",
    "Topic modeling using LDA are based on the dictionary and the corpus. This example is based on gensim library for building both."
   ]
  },
  {
   "cell_type": "code",
   "execution_count": 22,
   "metadata": {},
   "outputs": [],
   "source": [
    "# LDA\n",
    "import gensim\n",
    "from gensim import corpora, models, similarities "
   ]
  },
  {
   "cell_type": "code",
   "execution_count": 23,
   "metadata": {},
   "outputs": [
    {
     "name": "stdout",
     "output_type": "stream",
     "text": [
      "[[(0, 1), (1, 2), (2, 2), (3, 5), (4, 1), (5, 1), (6, 2), (7, 1), (8, 1), (9, 1), (10, 1), (11, 2), (12, 4), (13, 3), (14, 20), (15, 1), (16, 3), (17, 3), (18, 2), (19, 7), (20, 3), (21, 1), (22, 16), (23, 1), (24, 9), (25, 1), (26, 1), (27, 1), (28, 14), (29, 1), (30, 1), (31, 1), (32, 4), (33, 6), (34, 10), (35, 2), (36, 1), (37, 2), (38, 3), (39, 1), (40, 1), (41, 2), (42, 120), (43, 7), (44, 1), (45, 2), (46, 2), (47, 1), (48, 4), (49, 2), (50, 2), (51, 2), (52, 2), (53, 1), (54, 1), (55, 1), (56, 1), (57, 8), (58, 83), (59, 8), (60, 1), (61, 22), (62, 2), (63, 1), (64, 1), (65, 2), (66, 1), (67, 1), (68, 2), (69, 3), (70, 2), (71, 1), (72, 1), (73, 5), (74, 2), (75, 1), (76, 1), (77, 2), (78, 1), (79, 11), (80, 1), (81, 6), (82, 2), (83, 1), (84, 1), (85, 3), (86, 2), (87, 3), (88, 8), (89, 8), (90, 1), (91, 6), (92, 2), (93, 5), (94, 4), (95, 2), (96, 1), (97, 2), (98, 2), (99, 1), (100, 2), (101, 1), (102, 3), (103, 1), (104, 1), (105, 1), (106, 3), (107, 2), (108, 3), (109, 10), (110, 1), (111, 1), (112, 2), (113, 1), (114, 1), (115, 1), (116, 1), (117, 5), (118, 1), (119, 2), (120, 2), (121, 9), (122, 3), (123, 1), (124, 1), (125, 6), (126, 4), (127, 7), (128, 24), (129, 1), (130, 2), (131, 1), (132, 6), (133, 2), (134, 10), (135, 1), (136, 1), (137, 3), (138, 1), (139, 1), (140, 4), (141, 2), (142, 2), (143, 2), (144, 2), (145, 16), (146, 1), (147, 1), (148, 2), (149, 1), (150, 2), (151, 1), (152, 33), (153, 29), (154, 1), (155, 34), (156, 1), (157, 1), (158, 21), (159, 5), (160, 1), (161, 2), (162, 1), (163, 13), (164, 1), (165, 1), (166, 2), (167, 1), (168, 209), (169, 1), (170, 7), (171, 1), (172, 1), (173, 1), (174, 1), (175, 4), (176, 1), (177, 5), (178, 91), (179, 2), (180, 1), (181, 3), (182, 6), (183, 2), (184, 6), (185, 4), (186, 2), (187, 4), (188, 1), (189, 1), (190, 3), (191, 2), (192, 2), (193, 1), (194, 1), (195, 6), (196, 1), (197, 1), (198, 2), (199, 1), (200, 1), (201, 22), (202, 1), (203, 10), (204, 3), (205, 5), (206, 2), (207, 1), (208, 1), (209, 2), (210, 2), (211, 7), (212, 1), (213, 1), (214, 1), (215, 29), (216, 1), (217, 1), (218, 1), (219, 1), (220, 3), (221, 4), (222, 1), (223, 4), (224, 1), (225, 2), (226, 1), (227, 5), (228, 3), (229, 4), (230, 1), (231, 2), (232, 1), (233, 2), (234, 1), (235, 11), (236, 1), (237, 4), (238, 2), (239, 5), (240, 6), (241, 2), (242, 7), (243, 1), (244, 1), (245, 1), (246, 1), (247, 2), (248, 10), (249, 1), (250, 1), (251, 1), (252, 1), (253, 1), (254, 1), (255, 1), (256, 2), (257, 1), (258, 49), (259, 7), (260, 3), (261, 2), (262, 5), (263, 1), (264, 1), (265, 5), (266, 1), (267, 1), (268, 13), (269, 1), (270, 7), (271, 1), (272, 1), (273, 1), (274, 1), (275, 1), (276, 1), (277, 4), (278, 1), (279, 1), (280, 1), (281, 5), (282, 20), (283, 2), (284, 1), (285, 3), (286, 7), (287, 8), (288, 1), (289, 3), (290, 4), (291, 1), (292, 17), (293, 1), (294, 11), (295, 1), (296, 1), (297, 4), (298, 1), (299, 2), (300, 3), (301, 1), (302, 1), (303, 3), (304, 2), (305, 16), (306, 1), (307, 1), (308, 90), (309, 1), (310, 2), (311, 170), (312, 3), (313, 1), (314, 1), (315, 5), (316, 2), (317, 5), (318, 2), (319, 1), (320, 1), (321, 3), (322, 3), (323, 6), (324, 1), (325, 2), (326, 4), (327, 2), (328, 8), (329, 1), (330, 34), (331, 1), (332, 1), (333, 1), (334, 1), (335, 11), (336, 1), (337, 1), (338, 6), (339, 15), (340, 1), (341, 1), (342, 2), (343, 1), (344, 4), (345, 3), (346, 1), (347, 15), (348, 1), (349, 29), (350, 1), (351, 5), (352, 15), (353, 13), (354, 4), (355, 1), (356, 1), (357, 5), (358, 1), (359, 1), (360, 3), (361, 1), (362, 1), (363, 3), (364, 2), (365, 17), (366, 3), (367, 1), (368, 3), (369, 5), (370, 1), (371, 2), (372, 4), (373, 192), (374, 56), (375, 1), (376, 10), (377, 1), (378, 1), (379, 1), (380, 1), (381, 2), (382, 3), (383, 5), (384, 2), (385, 1), (386, 2), (387, 1), (388, 1), (389, 1), (390, 4), (391, 1), (392, 2), (393, 4), (394, 1), (395, 1), (396, 1), (397, 1), (398, 1), (399, 1), (400, 1), (401, 1), (402, 3), (403, 3), (404, 1), (405, 3), (406, 1), (407, 1), (408, 1), (409, 3), (410, 1), (411, 1), (412, 1), (413, 25), (414, 4), (415, 7), (416, 1), (417, 5), (418, 1), (419, 1), (420, 2), (421, 1), (422, 2), (423, 3), (424, 1), (425, 3), (426, 1), (427, 1), (428, 1), (429, 15), (430, 1), (431, 15), (432, 1), (433, 1), (434, 2), (435, 7), (436, 1), (437, 1), (438, 1), (439, 4), (440, 1), (441, 1), (442, 1), (443, 42), (444, 1), (445, 1), (446, 2), (447, 1), (448, 8), (449, 1), (450, 1), (451, 7), (452, 1), (453, 1), (454, 22), (455, 1), (456, 2), (457, 1), (458, 1), (459, 1), (460, 3), (461, 1), (462, 1), (463, 1), (464, 1), (465, 2), (466, 31), (467, 1), (468, 1), (469, 1), (470, 4), (471, 2), (472, 13), (473, 3), (474, 1), (475, 1), (476, 1), (477, 1), (478, 1), (479, 1), (480, 6), (481, 1), (482, 1), (483, 1), (484, 1), (485, 1), (486, 9), (487, 1), (488, 1), (489, 2), (490, 3), (491, 2), (492, 7), (493, 2), (494, 2), (495, 1), (496, 1), (497, 4), (498, 1), (499, 1), (500, 2), (501, 1), (502, 1), (503, 1), (504, 1), (505, 1), (506, 1), (507, 4), (508, 2), (509, 5), (510, 1), (511, 1), (512, 1), (513, 3), (514, 11), (515, 2), (516, 1), (517, 1), (518, 1), (519, 2), (520, 15), (521, 1), (522, 1), (523, 2), (524, 1), (525, 2), (526, 1), (527, 1), (528, 2), (529, 19), (530, 11), (531, 3), (532, 45), (533, 8), (534, 1), (535, 3), (536, 2), (537, 1), (538, 8), (539, 6), (540, 1), (541, 2), (542, 2), (543, 6), (544, 3), (545, 5), (546, 1), (547, 1), (548, 1), (549, 7), (550, 1), (551, 6), (552, 6), (553, 4), (554, 1), (555, 2), (556, 2), (557, 4), (558, 1), (559, 6), (560, 1), (561, 3), (562, 1), (563, 1), (564, 2), (565, 2), (566, 42), (567, 1), (568, 1), (569, 8), (570, 1), (571, 4), (572, 2), (573, 1), (574, 1), (575, 1), (576, 1), (577, 13), (578, 1), (579, 1), (580, 9), (581, 1), (582, 1), (583, 1), (584, 6), (585, 4), (586, 1), (587, 1), (588, 2), (589, 3), (590, 1), (591, 1), (592, 9), (593, 2), (594, 1), (595, 5), (596, 1), (597, 4), (598, 1), (599, 1), (600, 1), (601, 2), (602, 1), (603, 2), (604, 2), (605, 1), (606, 1), (607, 10), (608, 1), (609, 2), (610, 2), (611, 1), (612, 3), (613, 3), (614, 1), (615, 2), (616, 1), (617, 1), (618, 23), (619, 6), (620, 1), (621, 5), (622, 1), (623, 18), (624, 3), (625, 3), (626, 1), (627, 1), (628, 1), (629, 2), (630, 3), (631, 1), (632, 1), (633, 1), (634, 1), (635, 3), (636, 1), (637, 11), (638, 1), (639, 1), (640, 6), (641, 1), (642, 1), (643, 1), (644, 1), (645, 2), (646, 7), (647, 1), (648, 2), (649, 1), (650, 8), (651, 4), (652, 1), (653, 1), (654, 1), (655, 2), (656, 1), (657, 1), (658, 35), (659, 4), (660, 6), (661, 2), (662, 1), (663, 4), (664, 1), (665, 1), (666, 7), (667, 5), (668, 51), (669, 2), (670, 7), (671, 2), (672, 1), (673, 1), (674, 13), (675, 1), (676, 2), (677, 3), (678, 1), (679, 1), (680, 1), (681, 4), (682, 5), (683, 2), (684, 1), (685, 1), (686, 1), (687, 1), (688, 1), (689, 13), (690, 12), (691, 5), (692, 2), (693, 1), (694, 1), (695, 1), (696, 1), (697, 6), (698, 1), (699, 3), (700, 2), (701, 15), (702, 2), (703, 1), (704, 1), (705, 1), (706, 1), (707, 6), (708, 1), (709, 2), (710, 1), (711, 4), (712, 1), (713, 4), (714, 1), (715, 11), (716, 1), (717, 2), (718, 1), (719, 4), (720, 1), (721, 2), (722, 4), (723, 1), (724, 1), (725, 5), (726, 8), (727, 1), (728, 2), (729, 1), (730, 1), (731, 1), (732, 1), (733, 4), (734, 23), (735, 1), (736, 3), (737, 2), (738, 1), (739, 1), (740, 1), (741, 2), (742, 1), (743, 1), (744, 1), (745, 1), (746, 1), (747, 1), (748, 9), (749, 1), (750, 3), (751, 1), (752, 3), (753, 13), (754, 2), (755, 1), (756, 1), (757, 1), (758, 1), (759, 1), (760, 7), (761, 1), (762, 1), (763, 80), (764, 1), (765, 1), (766, 2), (767, 1), (768, 3), (769, 1), (770, 1), (771, 1), (772, 2), (773, 1), (774, 2), (775, 2), (776, 1), (777, 4), (778, 5), (779, 4), (780, 1), (781, 1), (782, 1), (783, 2), (784, 6), (785, 3), (786, 1), (787, 77), (788, 1), (789, 1), (790, 4), (791, 2), (792, 1), (793, 5), (794, 2), (795, 1), (796, 1), (797, 1), (798, 1), (799, 3), (800, 1), (801, 11), (802, 1), (803, 4), (804, 6), (805, 1), (806, 1), (807, 13), (808, 2), (809, 6), (810, 1), (811, 5), (812, 1), (813, 2), (814, 1), (815, 5), (816, 1), (817, 1), (818, 3), (819, 39), (820, 1), (821, 8), (822, 6), (823, 6), (824, 9), (825, 2), (826, 7), (827, 1), (828, 1), (829, 1), (830, 46), (831, 3), (832, 5), (833, 1), (834, 3), (835, 4), (836, 1), (837, 3), (838, 1), (839, 11), (840, 7), (841, 1), (842, 4), (843, 1), (844, 2), (845, 13), (846, 1), (847, 1), (848, 1), (849, 2), (850, 19), (851, 4), (852, 1), (853, 4), (854, 1), (855, 2), (856, 7), (857, 1), (858, 1), (859, 1), (860, 1), (861, 1), (862, 53), (863, 1), (864, 2), (865, 1), (866, 2), (867, 5), (868, 3), (869, 1), (870, 1), (871, 1), (872, 3), (873, 2), (874, 1), (875, 1), (876, 1), (877, 4), (878, 1), (879, 6), (880, 3), (881, 1), (882, 14), (883, 1), (884, 1), (885, 2), (886, 4), (887, 5), (888, 2), (889, 10), (890, 1), (891, 1), (892, 1), (893, 1), (894, 3), (895, 1), (896, 2), (897, 11), (898, 1), (899, 7), (900, 1), (901, 3), (902, 5), (903, 1), (904, 1), (905, 2), (906, 9), (907, 1), (908, 1), (909, 1), (910, 2), (911, 1), (912, 5), (913, 4), (914, 1), (915, 1), (916, 10), (917, 1), (918, 12), (919, 1), (920, 5), (921, 1), (922, 1), (923, 1), (924, 1), (925, 1), (926, 3), (927, 2), (928, 15), (929, 2), (930, 1), (931, 2), (932, 1), (933, 1), (934, 2), (935, 1), (936, 1), (937, 3), (938, 1), (939, 1), (940, 2), (941, 1), (942, 1), (943, 1), (944, 3), (945, 1), (946, 154), (947, 2), (948, 1), (949, 1), (950, 3), (951, 2), (952, 1), (953, 2), (954, 2), (955, 6), (956, 11), (957, 2), (958, 1), (959, 1), (960, 1), (961, 6), (962, 1), (963, 1), (964, 4), (965, 1), (966, 2), (967, 1), (968, 1), (969, 2), (970, 49), (971, 1), (972, 2), (973, 1), (974, 1), (975, 1), (976, 1), (977, 4), (978, 1), (979, 3), (980, 18), (981, 1), (982, 2), (983, 1), (984, 2), (985, 8), (986, 1), (987, 1), (988, 6), (989, 2), (990, 3), (991, 1), (992, 6), (993, 1), (994, 1), (995, 3), (996, 1), (997, 38), (998, 2), (999, 1), (1000, 1), (1001, 1), (1002, 4), (1003, 1), (1004, 1), (1005, 17), (1006, 4), (1007, 4), (1008, 3), (1009, 5), (1010, 17), (1011, 6), (1012, 56), (1013, 8), (1014, 4), (1015, 1), (1016, 5), (1017, 1), (1018, 1), (1019, 1), (1020, 3), (1021, 1), (1022, 15), (1023, 3), (1024, 1), (1025, 1), (1026, 1), (1027, 4), (1028, 1), (1029, 1), (1030, 1), (1031, 1), (1032, 14), (1033, 3), (1034, 3), (1035, 8), (1036, 3), (1037, 5), (1038, 2), (1039, 3), (1040, 3), (1041, 1), (1042, 1), (1043, 1), (1044, 85), (1045, 1), (1046, 1), (1047, 1), (1048, 3), (1049, 10), (1050, 1), (1051, 1), (1052, 5), (1053, 18), (1054, 4), (1055, 17), (1056, 12), (1057, 1), (1058, 1), (1059, 1), (1060, 2), (1061, 7), (1062, 1), (1063, 2), (1064, 1), (1065, 1), (1066, 1), (1067, 6), (1068, 1), (1069, 2), (1070, 2), (1071, 1), (1072, 2), (1073, 1), (1074, 28), (1075, 3), (1076, 1), (1077, 2), (1078, 1), (1079, 2), (1080, 1), (1081, 1), (1082, 1), (1083, 1), (1084, 4), (1085, 1), (1086, 1), (1087, 5), (1088, 1), (1089, 1), (1090, 1), (1091, 1), (1092, 1), (1093, 5), (1094, 2), (1095, 64), (1096, 22), (1097, 1), (1098, 1), (1099, 1), (1100, 1), (1101, 7), (1102, 7), (1103, 2), (1104, 2), (1105, 2), (1106, 2), (1107, 2), (1108, 10), (1109, 4), (1110, 1), (1111, 7), (1112, 2), (1113, 3), (1114, 1), (1115, 4), (1116, 4), (1117, 1), (1118, 1), (1119, 1), (1120, 6), (1121, 1), (1122, 2), (1123, 1), (1124, 2), (1125, 2), (1126, 1), (1127, 5), (1128, 2), (1129, 1), (1130, 1), (1131, 3), (1132, 1), (1133, 1), (1134, 1), (1135, 1), (1136, 1), (1137, 2), (1138, 1), (1139, 1), (1140, 2), (1141, 2), (1142, 17), (1143, 2), (1144, 1), (1145, 1), (1146, 1), (1147, 1), (1148, 1), (1149, 1), (1150, 5), (1151, 3), (1152, 1), (1153, 2), (1154, 1), (1155, 1), (1156, 1), (1157, 1), (1158, 2), (1159, 1), (1160, 1), (1161, 1), (1162, 1), (1163, 1), (1164, 1), (1165, 3), (1166, 1), (1167, 1), (1168, 1), (1169, 1), (1170, 1), (1171, 1), (1172, 2), (1173, 4), (1174, 1), (1175, 1), (1176, 1), (1177, 2), (1178, 1), (1179, 4), (1180, 1), (1181, 3), (1182, 1), (1183, 2), (1184, 1), (1185, 1), (1186, 2), (1187, 1), (1188, 2), (1189, 1), (1190, 1), (1191, 1), (1192, 2), (1193, 7), (1194, 1), (1195, 1), (1196, 1), (1197, 1), (1198, 1), (1199, 1), (1200, 2), (1201, 1), (1202, 1), (1203, 1), (1204, 1), (1205, 1), (1206, 1), (1207, 10), (1208, 1), (1209, 7), (1210, 1), (1211, 1), (1212, 1), (1213, 3), (1214, 2), (1215, 5), (1216, 2), (1217, 1), (1218, 2), (1219, 1), (1220, 2), (1221, 2), (1222, 6), (1223, 3), (1224, 1), (1225, 2), (1226, 2), (1227, 4), (1228, 14), (1229, 2), (1230, 1), (1231, 1), (1232, 1), (1233, 1), (1234, 13), (1235, 1), (1236, 1), (1237, 1), (1238, 1), (1239, 1), (1240, 1), (1241, 2), (1242, 1), (1243, 1), (1244, 3), (1245, 2), (1246, 1), (1247, 1), (1248, 1), (1249, 1), (1250, 3), (1251, 1), (1252, 1), (1253, 1), (1254, 3), (1255, 1), (1256, 1), (1257, 3), (1258, 1), (1259, 14), (1260, 16), (1261, 2), (1262, 10), (1263, 5), (1264, 16), (1265, 2), (1266, 9), (1267, 1), (1268, 1), (1269, 1), (1270, 1), (1271, 2), (1272, 1), (1273, 2), (1274, 1), (1275, 1), (1276, 3), (1277, 1), (1278, 2), (1279, 1), (1280, 1), (1281, 1), (1282, 1), (1283, 3), (1284, 4), (1285, 2), (1286, 1), (1287, 7), (1288, 2), (1289, 1), (1290, 1), (1291, 3), (1292, 1), (1293, 1), (1294, 1), (1295, 7), (1296, 1), (1297, 5), (1298, 1), (1299, 4), (1300, 5), (1301, 3), (1302, 7), (1303, 2), (1304, 3), (1305, 2), (1306, 2), (1307, 8), (1308, 3), (1309, 3), (1310, 7), (1311, 3), (1312, 2), (1313, 1), (1314, 1), (1315, 7), (1316, 7), (1317, 9), (1318, 3), (1319, 1), (1320, 1), (1321, 1), (1322, 1), (1323, 5), (1324, 2), (1325, 2), (1326, 3), (1327, 2), (1328, 1), (1329, 3), (1330, 5), (1331, 2), (1332, 6), (1333, 1), (1334, 1), (1335, 1), (1336, 1), (1337, 1), (1338, 1), (1339, 1), (1340, 3), (1341, 4), (1342, 3), (1343, 1), (1344, 3), (1345, 1), (1346, 2), (1347, 2), (1348, 2), (1349, 2), (1350, 1), (1351, 2), (1352, 2), (1353, 1), (1354, 1), (1355, 2), (1356, 1), (1357, 1), (1358, 1), (1359, 2), (1360, 1), (1361, 1), (1362, 1), (1363, 3), (1364, 1), (1365, 2), (1366, 28), (1367, 3), (1368, 30), (1369, 3), (1370, 4), (1371, 1), (1372, 33), (1373, 1), (1374, 1), (1375, 7), (1376, 4), (1377, 3), (1378, 1), (1379, 6), (1380, 1), (1381, 1), (1382, 1), (1383, 4), (1384, 12), (1385, 1), (1386, 1), (1387, 1), (1388, 1), (1389, 1), (1390, 8), (1391, 1), (1392, 1), (1393, 1), (1394, 1), (1395, 4), (1396, 1), (1397, 6), (1398, 1), (1399, 17), (1400, 32), (1401, 4), (1402, 8), (1403, 2), (1404, 2), (1405, 1), (1406, 1), (1407, 1), (1408, 4), (1409, 3), (1410, 1), (1411, 1), (1412, 5), (1413, 6), (1414, 6), (1415, 4), (1416, 3), (1417, 1), (1418, 2), (1419, 1), (1420, 3), (1421, 2), (1422, 7), (1423, 2), (1424, 1), (1425, 1), (1426, 2), (1427, 1), (1428, 2), (1429, 1), (1430, 3), (1431, 2), (1432, 4), (1433, 1), (1434, 1), (1435, 13), (1436, 1), (1437, 42), (1438, 1), (1439, 1), (1440, 1), (1441, 17), (1442, 1), (1443, 2), (1444, 10), (1445, 4), (1446, 1), (1447, 2), (1448, 1), (1449, 13), (1450, 1), (1451, 1), (1452, 2), (1453, 7), (1454, 1), (1455, 5), (1456, 4), (1457, 6), (1458, 3), (1459, 1), (1460, 1), (1461, 1), (1462, 1), (1463, 81), (1464, 1), (1465, 1), (1466, 1), (1467, 2), (1468, 4), (1469, 40), (1470, 83), (1471, 8), (1472, 1), (1473, 2), (1474, 2), (1475, 15), (1476, 1), (1477, 2), (1478, 1), (1479, 3), (1480, 1), (1481, 3), (1482, 1), (1483, 1), (1484, 6), (1485, 8), (1486, 1), (1487, 9), (1488, 1), (1489, 2), (1490, 2), (1491, 1), (1492, 6), (1493, 1), (1494, 2), (1495, 1), (1496, 2), (1497, 1), (1498, 1), (1499, 1), (1500, 1), (1501, 3), (1502, 1), (1503, 4), (1504, 9), (1505, 1), (1506, 10), (1507, 1), (1508, 1), (1509, 3), (1510, 2), (1511, 1), (1512, 20), (1513, 1), (1514, 2), (1515, 2), (1516, 2), (1517, 3), (1518, 1), (1519, 2), (1520, 1), (1521, 12), (1522, 1), (1523, 1), (1524, 2), (1525, 2), (1526, 1), (1527, 4), (1528, 1), (1529, 3), (1530, 2), (1531, 1), (1532, 8), (1533, 1), (1534, 1), (1535, 1), (1536, 4), (1537, 1), (1538, 7), (1539, 1), (1540, 5), (1541, 76), (1542, 1), (1543, 1), (1544, 1), (1545, 3), (1546, 26), (1547, 2), (1548, 1), (1549, 1), (1550, 58), (1551, 1), (1552, 1), (1553, 12), (1554, 1), (1555, 1), (1556, 3), (1557, 1), (1558, 3), (1559, 2), (1560, 16), (1561, 11), (1562, 1), (1563, 1), (1564, 1), (1565, 1), (1566, 5), (1567, 1), (1568, 18), (1569, 1), (1570, 2), (1571, 1), (1572, 2), (1573, 4), (1574, 4), (1575, 1), (1576, 4), (1577, 1), (1578, 1), (1579, 1), (1580, 1), (1581, 2), (1582, 5), (1583, 1), (1584, 1), (1585, 2), (1586, 1), (1587, 1), (1588, 4), (1589, 1), (1590, 10), (1591, 8), (1592, 5), (1593, 1), (1594, 1), (1595, 7), (1596, 2), (1597, 2), (1598, 1), (1599, 2), (1600, 2), (1601, 5), (1602, 2), (1603, 1), (1604, 2), (1605, 12), (1606, 186), (1607, 1), (1608, 8), (1609, 5), (1610, 1), (1611, 20), (1612, 1), (1613, 1), (1614, 5), (1615, 66), (1616, 3), (1617, 1), (1618, 2), (1619, 1), (1620, 16), (1621, 448), (1622, 1), (1623, 1), (1624, 2), (1625, 1), (1626, 1), (1627, 4), (1628, 1), (1629, 10), (1630, 1), (1631, 11), (1632, 1), (1633, 2), (1634, 4), (1635, 1), (1636, 143), (1637, 6), (1638, 1), (1639, 4), (1640, 1), (1641, 56), (1642, 1), (1643, 1), (1644, 1), (1645, 2), (1646, 9), (1647, 1), (1648, 2), (1649, 3), (1650, 11), (1651, 1), (1652, 1), (1653, 1), (1654, 1), (1655, 1), (1656, 2), (1657, 1), (1658, 1), (1659, 1), (1660, 2), (1661, 2), (1662, 1), (1663, 1), (1664, 2), (1665, 2), (1666, 1), (1667, 1), (1668, 1), (1669, 1), (1670, 1), (1671, 4), (1672, 1), (1673, 2), (1674, 1), (1675, 1), (1676, 1), (1677, 6), (1678, 1), (1679, 1), (1680, 8), (1681, 6), (1682, 1), (1683, 1), (1684, 1), (1685, 1), (1686, 1), (1687, 4), (1688, 4), (1689, 1), (1690, 12), (1691, 3), (1692, 1), (1693, 2), (1694, 1), (1695, 1), (1696, 1), (1697, 1), (1698, 1), (1699, 1), (1700, 2), (1701, 1), (1702, 4), (1703, 1), (1704, 2), (1705, 2), (1706, 2), (1707, 1), (1708, 13), (1709, 2), (1710, 2), (1711, 1), (1712, 4), (1713, 3), (1714, 5), (1715, 1), (1716, 2), (1717, 1), (1718, 1), (1719, 4), (1720, 3), (1721, 1), (1722, 6), (1723, 1), (1724, 1), (1725, 1), (1726, 2), (1727, 2), (1728, 13), (1729, 43), (1730, 1), (1731, 4), (1732, 1), (1733, 1), (1734, 3), (1735, 1), (1736, 1), (1737, 1), (1738, 1), (1739, 1), (1740, 2), (1741, 1), (1742, 1), (1743, 1), (1744, 1), (1745, 6), (1746, 13), (1747, 1), (1748, 1), (1749, 10), (1750, 1), (1751, 1), (1752, 2), (1753, 1), (1754, 3), (1755, 1), (1756, 14), (1757, 1), (1758, 6), (1759, 2), (1760, 11), (1761, 6), (1762, 2), (1763, 2), (1764, 1), (1765, 7), (1766, 1), (1767, 11), (1768, 1), (1769, 1), (1770, 1), (1771, 1), (1772, 129), (1773, 1), (1774, 1), (1775, 1), (1776, 4), (1777, 1), (1778, 3), (1779, 1), (1780, 1), (1781, 2), (1782, 4), (1783, 1), (1784, 1), (1785, 1), (1786, 1), (1787, 1), (1788, 2), (1789, 2), (1790, 2), (1791, 1), (1792, 1), (1793, 3), (1794, 1), (1795, 5), (1796, 16), (1797, 1), (1798, 7), (1799, 3), (1800, 1), (1801, 1), (1802, 4), (1803, 1), (1804, 1), (1805, 1), (1806, 1), (1807, 2), (1808, 5), (1809, 1), (1810, 2), (1811, 427), (1812, 4), (1813, 1), (1814, 1), (1815, 3), (1816, 1), (1817, 4), (1818, 1), (1819, 2), (1820, 1), (1821, 2), (1822, 1), (1823, 1), (1824, 8), (1825, 1), (1826, 4), (1827, 4), (1828, 3), (1829, 1), (1830, 2), (1831, 1), (1832, 22), (1833, 5), (1834, 4), (1835, 1), (1836, 5), (1837, 1), (1838, 7), (1839, 2), (1840, 2), (1841, 1), (1842, 1), (1843, 4), (1844, 3), (1845, 1), (1846, 3), (1847, 1), (1848, 1), (1849, 2), (1850, 2), (1851, 1), (1852, 1), (1853, 1), (1854, 1), (1855, 1), (1856, 6), (1857, 5), (1858, 2), (1859, 1), (1860, 14), (1861, 1), (1862, 15), (1863, 1), (1864, 1), (1865, 1), (1866, 62), (1867, 3), (1868, 1), (1869, 2), (1870, 1), (1871, 2), (1872, 2), (1873, 1), (1874, 3), (1875, 2), (1876, 1), (1877, 1), (1878, 5), (1879, 2), (1880, 2), (1881, 2), (1882, 2), (1883, 2), (1884, 2), (1885, 2), (1886, 1), (1887, 1), (1888, 1), (1889, 1), (1890, 5), (1891, 1), (1892, 1), (1893, 4), (1894, 1), (1895, 2), (1896, 3), (1897, 1), (1898, 2), (1899, 2), (1900, 2), (1901, 1), (1902, 4), (1903, 3), (1904, 1), (1905, 1), (1906, 11), (1907, 4), (1908, 1), (1909, 1), (1910, 4), (1911, 2), (1912, 281), (1913, 1), (1914, 1), (1915, 1), (1916, 4), (1917, 1), (1918, 4), (1919, 1), (1920, 1), (1921, 1), (1922, 1), (1923, 5), (1924, 1), (1925, 1), (1926, 5), (1927, 3), (1928, 8), (1929, 1), (1930, 1), (1931, 2), (1932, 2), (1933, 4), (1934, 1), (1935, 17), (1936, 1), (1937, 4), (1938, 1), (1939, 1), (1940, 6), (1941, 2), (1942, 1), (1943, 5), (1944, 2), (1945, 1), (1946, 1), (1947, 1), (1948, 1), (1949, 1), (1950, 3), (1951, 12), (1952, 1), (1953, 1), (1954, 2), (1955, 2), (1956, 4), (1957, 3), (1958, 2), (1959, 1), (1960, 3), (1961, 4), (1962, 1), (1963, 3), (1964, 2), (1965, 1), (1966, 17), (1967, 2), (1968, 1), (1969, 1), (1970, 2), (1971, 1), (1972, 24), (1973, 2), (1974, 3), (1975, 1), (1976, 1), (1977, 1), (1978, 1), (1979, 1), (1980, 1), (1981, 1), (1982, 1), (1983, 1), (1984, 3), (1985, 4), (1986, 12), (1987, 1), (1988, 10), (1989, 1), (1990, 14), (1991, 8), (1992, 1), (1993, 3), (1994, 2), (1995, 5), (1996, 1), (1997, 2), (1998, 5), (1999, 1), (2000, 6), (2001, 1), (2002, 1), (2003, 18), (2004, 6), (2005, 1), (2006, 18), (2007, 1), (2008, 1), (2009, 15), (2010, 1), (2011, 1), (2012, 1), (2013, 35), (2014, 1), (2015, 1), (2016, 1), (2017, 15), (2018, 2), (2019, 4), (2020, 1), (2021, 1), (2022, 4), (2023, 2), (2024, 1), (2025, 46), (2026, 37), (2027, 6), (2028, 2), (2029, 2), (2030, 3), (2031, 1), (2032, 2), (2033, 1), (2034, 2), (2035, 1), (2036, 6), (2037, 1), (2038, 2), (2039, 1), (2040, 1), (2041, 3), (2042, 33), (2043, 1), (2044, 6), (2045, 14), (2046, 1), (2047, 1), (2048, 1), (2049, 1), (2050, 2), (2051, 7), (2052, 1), (2053, 1), (2054, 1), (2055, 1), (2056, 17), (2057, 4), (2058, 1), (2059, 1), (2060, 2), (2061, 59), (2062, 1), (2063, 2), (2064, 1), (2065, 2), (2066, 3), (2067, 1), (2068, 1), (2069, 11), (2070, 1), (2071, 20), (2072, 4), (2073, 1), (2074, 1), (2075, 8), (2076, 5), (2077, 4), (2078, 1), (2079, 1), (2080, 1), (2081, 5), (2082, 4), (2083, 23), (2084, 1), (2085, 2), (2086, 2), (2087, 2), (2088, 1), (2089, 1), (2090, 1), (2091, 1), (2092, 4), (2093, 1), (2094, 3), (2095, 1), (2096, 1), (2097, 1), (2098, 7), (2099, 1), (2100, 1), (2101, 1), (2102, 10), (2103, 8), (2104, 1), (2105, 36), (2106, 1), (2107, 2), (2108, 2), (2109, 1), (2110, 2), (2111, 3), (2112, 1), (2113, 1), (2114, 5), (2115, 3), (2116, 1), (2117, 75), (2118, 1), (2119, 5), (2120, 2), (2121, 1), (2122, 1), (2123, 18), (2124, 1), (2125, 1), (2126, 3), (2127, 3), (2128, 4), (2129, 1), (2130, 7), (2131, 3), (2132, 5), (2133, 1), (2134, 8), (2135, 1), (2136, 3), (2137, 1), (2138, 4), (2139, 1), (2140, 4), (2141, 1), (2142, 1), (2143, 8), (2144, 1), (2145, 1), (2146, 9), (2147, 1), (2148, 1), (2149, 2), (2150, 2), (2151, 1), (2152, 1), (2153, 2), (2154, 1), (2155, 3), (2156, 1), (2157, 1), (2158, 3), (2159, 3), (2160, 8), (2161, 1), (2162, 1), (2163, 2), (2164, 1), (2165, 2), (2166, 6), (2167, 2), (2168, 1), (2169, 1), (2170, 1), (2171, 1), (2172, 1), (2173, 1), (2174, 1), (2175, 1), (2176, 7), (2177, 1), (2178, 6), (2179, 2), (2180, 1), (2181, 5), (2182, 1), (2183, 4), (2184, 5), (2185, 1), (2186, 2), (2187, 2), (2188, 1), (2189, 3), (2190, 10), (2191, 2), (2192, 1), (2193, 1), (2194, 1), (2195, 1), (2196, 6), (2197, 6), (2198, 6), (2199, 1), (2200, 2), (2201, 5), (2202, 5), (2203, 1), (2204, 1), (2205, 3), (2206, 2), (2207, 1), (2208, 1), (2209, 1), (2210, 1), (2211, 1), (2212, 2), (2213, 2), (2214, 1), (2215, 1), (2216, 4), (2217, 2), (2218, 1), (2219, 1), (2220, 1), (2221, 1), (2222, 1), (2223, 1), (2224, 22), (2225, 16), (2226, 1), (2227, 1), (2228, 5), (2229, 1), (2230, 1), (2231, 2), (2232, 1), (2233, 1), (2234, 1), (2235, 2), (2236, 1), (2237, 1), (2238, 2), (2239, 1), (2240, 1), (2241, 12), (2242, 2), (2243, 7), (2244, 6), (2245, 1), (2246, 4), (2247, 1), (2248, 1), (2249, 2), (2250, 1), (2251, 2), (2252, 1), (2253, 1), (2254, 1), (2255, 1), (2256, 1), (2257, 2), (2258, 1), (2259, 10), (2260, 8), (2261, 3), (2262, 3), (2263, 1), (2264, 2), (2265, 2), (2266, 1), (2267, 1), (2268, 1), (2269, 1), (2270, 1), (2271, 4), (2272, 2), (2273, 49), (2274, 26), (2275, 3), (2276, 6), (2277, 3), (2278, 3), (2279, 3), (2280, 4), (2281, 2), (2282, 1), (2283, 1), (2284, 1), (2285, 1), (2286, 1), (2287, 1), (2288, 1), (2289, 1), (2290, 5), (2291, 5), (2292, 1), (2293, 2), (2294, 1), (2295, 1), (2296, 2), (2297, 1), (2298, 1), (2299, 1), (2300, 1), (2301, 1), (2302, 1), (2303, 2), (2304, 1), (2305, 4), (2306, 2), (2307, 1), (2308, 1), (2309, 1), (2310, 1), (2311, 1), (2312, 1), (2313, 1), (2314, 1), (2315, 3), (2316, 3), (2317, 1), (2318, 1), (2319, 5), (2320, 1), (2321, 1), (2322, 1), (2323, 1), (2324, 1), (2325, 1), (2326, 1), (2327, 1), (2328, 1), (2329, 2), (2330, 1), (2331, 3), (2332, 1), (2333, 1), (2334, 1), (2335, 1), (2336, 1), (2337, 1), (2338, 1), (2339, 1), (2340, 5), (2341, 3), (2342, 10), (2343, 2), (2344, 3), (2345, 1), (2346, 15), (2347, 1), (2348, 2), (2349, 1), (2350, 3), (2351, 15), (2352, 3), (2353, 1), (2354, 1), (2355, 4), (2356, 1), (2357, 1), (2358, 2), (2359, 1), (2360, 29), (2361, 1), (2362, 1), (2363, 2), (2364, 1), (2365, 3), (2366, 1), (2367, 1), (2368, 2), (2369, 1), (2370, 1), (2371, 3), (2372, 1), (2373, 3), (2374, 5), (2375, 2), (2376, 1), (2377, 1), (2378, 1), (2379, 5), (2380, 1), (2381, 2), (2382, 1), (2383, 1), (2384, 10), (2385, 6), (2386, 1), (2387, 10), (2388, 5), (2389, 1), (2390, 1), (2391, 1), (2392, 1), (2393, 1), (2394, 1), (2395, 3), (2396, 1), (2397, 1), (2398, 1), (2399, 2), (2400, 1), (2401, 4), (2402, 4), (2403, 11), (2404, 2), (2405, 1), (2406, 1), (2407, 28), (2408, 1), (2409, 1), (2410, 1), (2411, 12), (2412, 1), (2413, 1), (2414, 3), (2415, 2), (2416, 8), (2417, 2), (2418, 1), (2419, 1), (2420, 49), (2421, 1), (2422, 45), (2423, 12), (2424, 8), (2425, 1), (2426, 1), (2427, 7), (2428, 1), (2429, 25), (2430, 1), (2431, 1), (2432, 1), (2433, 3), (2434, 4), (2435, 1), (2436, 2), (2437, 5), (2438, 5), (2439, 23), (2440, 2), (2441, 1), (2442, 1), (2443, 9), (2444, 5), (2445, 1), (2446, 4), (2447, 3), (2448, 14), (2449, 1), (2450, 180), (2451, 2), (2452, 4), (2453, 1), (2454, 2), (2455, 1), (2456, 2), (2457, 3), (2458, 1), (2459, 1), (2460, 1), (2461, 10), (2462, 1), (2463, 1), (2464, 4), (2465, 1), (2466, 3), (2467, 5), (2468, 5), (2469, 4)]]\n"
     ]
    }
   ],
   "source": [
    "tokenized = playbills['tokenized_text']\n",
    "\n",
    "#Creating term dictionary of corpus, where each unique term is assigned an index.\n",
    "dictionary = corpora.Dictionary(tokenized)\n",
    "#Filter terms which occurs in less than 1 review and more than 80% of the reviews.\n",
    "dictionary.filter_extremes(no_below=1, no_above=0.8)\n",
    "#convert the dictionary to a bag of words corpus \n",
    "corpus = [dictionary.doc2bow(tokens) for tokens in tokenized]\n",
    "#print(corpus[:1])"
   ]
  },
  {
   "cell_type": "markdown",
   "metadata": {},
   "source": [
    "## Building the Topic Model\n",
    "\n",
    "In this step, num_topics is the number of topics to be created and passes correspond to the number of times to iterate through the entire corpus. By running the LDA algorithm we get the topics as a result."
   ]
  },
  {
   "cell_type": "code",
   "execution_count": 25,
   "metadata": {},
   "outputs": [
    {
     "name": "stdout",
     "output_type": "stream",
     "text": [
      "(0, '0.003*\"interest\" + 0.003*\"laughabl\" + 0.003*\"fairi\" + 0.003*\"precis\"')\n",
      "(1, '0.009*\"bologna\" + 0.008*\"money\" + 0.007*\"mailer\" + 0.007*\"rex\"')\n",
      "(2, '0.009*\"webster\" + 0.007*\"success\" + 0.006*\"guinea\" + 0.005*\"strickland\"')\n",
      "(3, '0.007*\"cooper\" + 0.007*\"kean\" + 0.006*\"applaus\" + 0.006*\"webster\"')\n",
      "(4, '0.005*\"miller\" + 0.005*\"circl\" + 0.004*\"griev\" + 0.004*\"fairi\"')\n"
     ]
    }
   ],
   "source": [
    "import warnings\n",
    "warnings.simplefilter(\"ignore\", DeprecationWarning)\n",
    "\n",
    "#LDA\n",
    "ldamodel = gensim.models.ldamodel.LdaModel(corpus, num_topics = 5, id2word=dictionary, passes=15)\n",
    "ldamodel.save('model_combined.gensim')\n",
    "topics = ldamodel.print_topics(num_words=4)\n",
    "for topic in topics:\n",
    "   print(topic)"
   ]
  },
  {
   "cell_type": "markdown",
   "metadata": {},
   "source": [
    "This output shows the 5 topics created and the 4 words within each topic which best describes them. From the above output we could guess that each topic and their corresponding words revolve around a common theme (For e.g., Topic 2 is related to bologna and money)."
   ]
  },
  {
   "cell_type": "code",
   "execution_count": null,
   "metadata": {},
   "outputs": [],
   "source": []
  }
 ],
 "metadata": {
  "kernelspec": {
   "display_name": "Python 3",
   "language": "python",
   "name": "python3"
  },
  "language_info": {
   "codemirror_mode": {
    "name": "ipython",
    "version": 3
   },
   "file_extension": ".py",
   "mimetype": "text/x-python",
   "name": "python",
   "nbconvert_exporter": "python",
   "pygments_lexer": "ipython3",
   "version": "3.6.9"
  }
 },
 "nbformat": 4,
 "nbformat_minor": 4
}
